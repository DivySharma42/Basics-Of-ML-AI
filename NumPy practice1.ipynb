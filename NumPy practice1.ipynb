{
 "cells": [
  {
   "cell_type": "markdown",
   "id": "949eb850-1075-43dc-9fca-59b58510c687",
   "metadata": {},
   "source": [
    "## NUMPY\n"
   ]
  },
  {
   "cell_type": "raw",
   "id": "2f69ce8c-0b38-4873-8b9d-892e8c2a5c9f",
   "metadata": {},
   "source": [
    "NUmpy is a multidimensional array library.\n",
    "compared to lists Numpy is faster as theres no typechecking between each iteration and it uses contagious memory."
   ]
  },
  {
   "cell_type": "code",
   "execution_count": 1,
   "id": "f96e5e6b-1b2c-41b0-a851-6d463b9c787e",
   "metadata": {},
   "outputs": [],
   "source": [
    "import numpy as np"
   ]
  },
  {
   "cell_type": "code",
   "execution_count": 13,
   "id": "728f5597-51bf-40db-b97b-f490b6032718",
   "metadata": {},
   "outputs": [
    {
     "name": "stdout",
     "output_type": "stream",
     "text": [
      "[[ 1  2  3  4  5  6  7]\n",
      " [ 8  9 10 11 12 13 14]]\n"
     ]
    }
   ],
   "source": [
    "a = np.array([[1,2,3,4,5,6,7],[8,9,10,11,12,13,14]])\n",
    "print (a)"
   ]
  },
  {
   "cell_type": "code",
   "execution_count": 7,
   "id": "bcee247f-171f-4853-8d65-4bc12919b0a4",
   "metadata": {},
   "outputs": [
    {
     "data": {
      "text/plain": [
       "2"
      ]
     },
     "execution_count": 7,
     "metadata": {},
     "output_type": "execute_result"
    }
   ],
   "source": [
    "a.ndim"
   ]
  },
  {
   "cell_type": "code",
   "execution_count": 8,
   "id": "6c1b0701-7228-419d-93c2-93eb3220ba38",
   "metadata": {},
   "outputs": [
    {
     "data": {
      "text/plain": [
       "(2, 7)"
      ]
     },
     "execution_count": 8,
     "metadata": {},
     "output_type": "execute_result"
    }
   ],
   "source": [
    "a.shape"
   ]
  },
  {
   "cell_type": "code",
   "execution_count": 9,
   "id": "a5a172b7-5f12-4c0e-ace6-7653c64f2f1f",
   "metadata": {},
   "outputs": [
    {
     "data": {
      "text/plain": [
       "dtype('int32')"
      ]
     },
     "execution_count": 9,
     "metadata": {},
     "output_type": "execute_result"
    }
   ],
   "source": [
    "a.dtype"
   ]
  },
  {
   "cell_type": "code",
   "execution_count": 14,
   "id": "afbc7781-2f28-4752-9109-64a55d04b824",
   "metadata": {},
   "outputs": [
    {
     "data": {
      "text/plain": [
       "4"
      ]
     },
     "execution_count": 14,
     "metadata": {},
     "output_type": "execute_result"
    }
   ],
   "source": [
    "a.itemsize"
   ]
  },
  {
   "cell_type": "code",
   "execution_count": 15,
   "id": "e0d1a1e6-ef1c-4088-bc51-10650204e209",
   "metadata": {},
   "outputs": [
    {
     "data": {
      "text/plain": [
       "56"
      ]
     },
     "execution_count": 15,
     "metadata": {},
     "output_type": "execute_result"
    }
   ],
   "source": [
    "a.nbytes"
   ]
  },
  {
   "cell_type": "markdown",
   "id": "e0996d8e-c8d5-41fd-a68a-c7808afbe642",
   "metadata": {},
   "source": [
    "### modifications in arrays ( elements/rows/columns )"
   ]
  },
  {
   "cell_type": "code",
   "execution_count": 17,
   "id": "99d18f15-e914-4c78-a63f-9158f969c2fa",
   "metadata": {},
   "outputs": [
    {
     "name": "stdout",
     "output_type": "stream",
     "text": [
      "[[ 1  2  3  4  5  6  7]\n",
      " [ 8  9 10 11 12 13 14]]\n"
     ]
    }
   ],
   "source": [
    "print (a)\n"
   ]
  },
  {
   "cell_type": "code",
   "execution_count": 18,
   "id": "48da3016-dec9-401a-94fd-a59801da87a6",
   "metadata": {},
   "outputs": [
    {
     "data": {
      "text/plain": [
       "12"
      ]
     },
     "execution_count": 18,
     "metadata": {},
     "output_type": "execute_result"
    }
   ],
   "source": [
    "a[1,4]"
   ]
  },
  {
   "cell_type": "code",
   "execution_count": 19,
   "id": "869635a5-5bae-488f-902f-ecc61207a886",
   "metadata": {},
   "outputs": [
    {
     "data": {
      "text/plain": [
       "array([ 6, 13])"
      ]
     },
     "execution_count": 19,
     "metadata": {},
     "output_type": "execute_result"
    }
   ],
   "source": [
    "a[:, 5]\n"
   ]
  },
  {
   "cell_type": "code",
   "execution_count": 21,
   "id": "7ed5b4a6-26d9-4163-9752-47a4431b2e1f",
   "metadata": {},
   "outputs": [
    {
     "data": {
      "text/plain": [
       "array([ 8,  9, 10, 11, 12, 13, 14])"
      ]
     },
     "execution_count": 21,
     "metadata": {},
     "output_type": "execute_result"
    }
   ],
   "source": [
    "a[1, :]"
   ]
  },
  {
   "cell_type": "code",
   "execution_count": 22,
   "id": "3c6857f3-9354-4a05-b550-c861a8da13b4",
   "metadata": {},
   "outputs": [
    {
     "data": {
      "text/plain": [
       "array([[0., 0., 0.],\n",
       "       [0., 0., 0.],\n",
       "       [0., 0., 0.]])"
      ]
     },
     "execution_count": 22,
     "metadata": {},
     "output_type": "execute_result"
    }
   ],
   "source": [
    "np.zeros([3,3])"
   ]
  },
  {
   "cell_type": "code",
   "execution_count": 24,
   "id": "703b022e-ceb0-4fcb-a9b5-58e0626e8911",
   "metadata": {},
   "outputs": [
    {
     "data": {
      "text/plain": [
       "array([[1., 1., 1.],\n",
       "       [1., 1., 1.],\n",
       "       [1., 1., 1.],\n",
       "       [1., 1., 1.]])"
      ]
     },
     "execution_count": 24,
     "metadata": {},
     "output_type": "execute_result"
    }
   ],
   "source": [
    "np.ones([4,3])"
   ]
  },
  {
   "cell_type": "code",
   "execution_count": 26,
   "id": "b42f66f0-03fa-4698-aea3-d044c4743736",
   "metadata": {},
   "outputs": [
    {
     "data": {
      "text/plain": [
       "array([[99, 99, 99, 99],\n",
       "       [99, 99, 99, 99],\n",
       "       [99, 99, 99, 99],\n",
       "       [99, 99, 99, 99]])"
      ]
     },
     "execution_count": 26,
     "metadata": {},
     "output_type": "execute_result"
    }
   ],
   "source": [
    "np.full((4,4),(99))"
   ]
  },
  {
   "cell_type": "code",
   "execution_count": 35,
   "id": "30d20a15-0740-4f4d-9d5d-a7a79aeaab1e",
   "metadata": {},
   "outputs": [
    {
     "name": "stdout",
     "output_type": "stream",
     "text": [
      "[[0. 0. 0. 0. 0. 0.]\n",
      " [0. 0. 0. 0. 0. 0.]\n",
      " [0. 0. 0. 0. 0. 0.]\n",
      " [0. 0. 0. 0. 0. 0.]\n",
      " [0. 0. 0. 0. 0. 0.]\n",
      " [0. 0. 0. 0. 0. 0.]]\n"
     ]
    }
   ],
   "source": [
    "z= np.zeros([6,6])\n",
    "print (z)\n"
   ]
  },
  {
   "cell_type": "code",
   "execution_count": 34,
   "id": "9944ba70-d999-45df-b2f9-22b11c31d319",
   "metadata": {},
   "outputs": [
    {
     "name": "stdout",
     "output_type": "stream",
     "text": [
      "[[1. 0. 0. 0.]\n",
      " [0. 1. 0. 0.]\n",
      " [0. 0. 1. 0.]\n",
      " [0. 0. 0. 1.]]\n"
     ]
    }
   ],
   "source": [
    "x = np.identity(4)\n",
    "print (x)"
   ]
  },
  {
   "cell_type": "code",
   "execution_count": 43,
   "id": "93991434-7711-4ecd-af6b-7440a72f0df0",
   "metadata": {},
   "outputs": [
    {
     "name": "stdout",
     "output_type": "stream",
     "text": [
      "[[0. 0. 0. 0. 0. 0.]\n",
      " [0. 1. 0. 0. 0. 0.]\n",
      " [0. 0. 1. 0. 0. 0.]\n",
      " [0. 0. 0. 1. 0. 0.]\n",
      " [0. 0. 0. 0. 1. 0.]\n",
      " [0. 0. 0. 0. 0. 0.]]\n"
     ]
    }
   ],
   "source": [
    "z[1:5, 1:5] = x\n",
    "print (z)"
   ]
  },
  {
   "cell_type": "code",
   "execution_count": null,
   "id": "1b339490-24ab-4b41-90f9-8be643d53847",
   "metadata": {},
   "outputs": [],
   "source": []
  }
 ],
 "metadata": {
  "kernelspec": {
   "display_name": "Python 3 (ipykernel)",
   "language": "python",
   "name": "python3"
  },
  "language_info": {
   "codemirror_mode": {
    "name": "ipython",
    "version": 3
   },
   "file_extension": ".py",
   "mimetype": "text/x-python",
   "name": "python",
   "nbconvert_exporter": "python",
   "pygments_lexer": "ipython3",
   "version": "3.11.7"
  }
 },
 "nbformat": 4,
 "nbformat_minor": 5
}
