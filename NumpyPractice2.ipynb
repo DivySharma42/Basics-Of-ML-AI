{
  "nbformat": 4,
  "nbformat_minor": 0,
  "metadata": {
    "colab": {
      "provenance": []
    },
    "kernelspec": {
      "name": "python3",
      "display_name": "Python 3"
    },
    "language_info": {
      "name": "python"
    }
  },
  "cells": [
    {
      "cell_type": "code",
      "execution_count": 2,
      "metadata": {
        "id": "H4dJjuzg4IzC"
      },
      "outputs": [],
      "source": [
        "import numpy as np\n",
        "import pandas as pd"
      ]
    },
    {
      "cell_type": "markdown",
      "source": [
        "1.\tCreate a NumPy array of shape (3,3) filled with random integers between 1 and 100."
      ],
      "metadata": {
        "id": "gujAFVSo9coS"
      }
    },
    {
      "cell_type": "code",
      "source": [
        "arr1 = np.random.randint (1,100, size = (3,3))\n",
        "arr1"
      ],
      "metadata": {
        "colab": {
          "base_uri": "https://localhost:8080/"
        },
        "id": "gj_dR4a09ech",
        "outputId": "9b23832a-6aee-40d3-d4d2-97c6f9d248ad"
      },
      "execution_count": 10,
      "outputs": [
        {
          "output_type": "execute_result",
          "data": {
            "text/plain": [
              "array([[98, 53, 13],\n",
              "       [57, 31, 46],\n",
              "       [33, 70, 50]])"
            ]
          },
          "metadata": {},
          "execution_count": 10
        }
      ]
    },
    {
      "cell_type": "markdown",
      "source": [
        "2.\tReplace all odd numbers in a NumPy array with -1 without using a loop."
      ],
      "metadata": {
        "id": "lnjM35H5-v4q"
      }
    },
    {
      "cell_type": "code",
      "source": [
        "arr2 = np.random.randint (1,100, size = (3,3))\n",
        "arr2\n",
        "arr2[arr2 % 2 == 1] = -1\n",
        "arr2"
      ],
      "metadata": {
        "colab": {
          "base_uri": "https://localhost:8080/"
        },
        "id": "XPsm8bHf-yl5",
        "outputId": "eac65897-9083-4dfd-a93b-8660abe4e9e7"
      },
      "execution_count": 13,
      "outputs": [
        {
          "output_type": "execute_result",
          "data": {
            "text/plain": [
              "array([[-1, -1, -1],\n",
              "       [58, 66, 18],\n",
              "       [-1, -1, -1]])"
            ]
          },
          "metadata": {},
          "execution_count": 13
        }
      ]
    },
    {
      "cell_type": "markdown",
      "source": [
        "3.\tGiven a NumPy array, find the indices of all elements greater than a given value."
      ],
      "metadata": {
        "id": "8TFKjjzlAmsq"
      }
    },
    {
      "cell_type": "code",
      "source": [
        "arr3 = np.random.randint (1,100, size = (3,3))\n",
        "indices = np.where(arr3 >= 50)\n",
        "indices"
      ],
      "metadata": {
        "colab": {
          "base_uri": "https://localhost:8080/"
        },
        "id": "KoNv_oeK_kuA",
        "outputId": "c93988e4-95a2-40ec-8a92-7dd62734f1d9"
      },
      "execution_count": 15,
      "outputs": [
        {
          "output_type": "execute_result",
          "data": {
            "text/plain": [
              "(array([0, 0, 1, 1, 2, 2]), array([1, 2, 0, 2, 0, 2]))"
            ]
          },
          "metadata": {},
          "execution_count": 15
        }
      ]
    },
    {
      "cell_type": "markdown",
      "source": [
        "4.\tConvert a 1D NumPy array into a 2D matrix of shape (n, m)."
      ],
      "metadata": {
        "id": "5JnRJlWCCWGC"
      }
    },
    {
      "cell_type": "code",
      "source": [
        "arr4 = np.array([1,2,3,4,5])\n",
        "arr5 = arr4.reshape(5,1)\n",
        "arr5\n"
      ],
      "metadata": {
        "colab": {
          "base_uri": "https://localhost:8080/"
        },
        "id": "4n6OGTDf_u2e",
        "outputId": "160a4e0b-78b5-4ae3-9b4b-a693f1b223bf"
      },
      "execution_count": 21,
      "outputs": [
        {
          "output_type": "execute_result",
          "data": {
            "text/plain": [
              "array([[1],\n",
              "       [2],\n",
              "       [3],\n",
              "       [4],\n",
              "       [5]])"
            ]
          },
          "metadata": {},
          "execution_count": 21
        }
      ]
    },
    {
      "cell_type": "markdown",
      "source": [
        "5.\tCompute the sum of all elements in a NumPy array along axis 0 and axis 1."
      ],
      "metadata": {
        "id": "d7jH0xKACXUr"
      }
    },
    {
      "cell_type": "code",
      "source": [
        "arr6 = np.random.randint (1,100, size = (3,3))\n",
        "arr6\n",
        "xaxis = np.sum(arr6, axis = 0)\n",
        "yaxis = np.sum(arr6, axis = 1)\n",
        "print(xaxis)\n",
        "print(yaxis)\n",
        "arr6"
      ],
      "metadata": {
        "colab": {
          "base_uri": "https://localhost:8080/"
        },
        "id": "YtjHrmjiBH8r",
        "outputId": "a6ff430e-b0f6-4b85-871e-622e28a90b99"
      },
      "execution_count": 26,
      "outputs": [
        {
          "output_type": "stream",
          "name": "stdout",
          "text": [
            "[167 111 193]\n",
            "[220 141 110]\n"
          ]
        },
        {
          "output_type": "execute_result",
          "data": {
            "text/plain": [
              "array([[58, 83, 79],\n",
              "       [62, 22, 57],\n",
              "       [47,  6, 57]])"
            ]
          },
          "metadata": {},
          "execution_count": 26
        }
      ]
    },
    {
      "cell_type": "code",
      "source": [],
      "metadata": {
        "id": "PoOLGFYzCgW2"
      },
      "execution_count": null,
      "outputs": []
    }
  ]
}