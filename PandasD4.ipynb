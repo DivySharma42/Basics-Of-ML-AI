{
 "cells": [
  {
   "cell_type": "markdown",
   "id": "d8d42b65",
   "metadata": {},
   "source": [
    "# Python Pandas Notes"
   ]
  },
  {
   "cell_type": "markdown",
   "id": "97403689",
   "metadata": {},
   "source": [
    "## Sorting"
   ]
  },
  {
   "cell_type": "code",
   "execution_count": null,
   "id": "2ef89351",
   "metadata": {},
   "outputs": [],
   "source": [
    "# Decreasing order\n",
    "coffee.sort_values(\"Units Sold\", ascending=False)\n",
    "coffee.sort_values([\"Day\"], ascending=[0])"
   ]
  },
  {
   "cell_type": "markdown",
   "id": "460b9dcb",
   "metadata": {},
   "source": [
    "## Filtering Data"
   ]
  },
  {
   "cell_type": "code",
   "execution_count": null,
   "id": "a686d7fa",
   "metadata": {},
   "outputs": [],
   "source": [
    "bios.info()\n",
    "bios.loc[bios[\"height_cm\"] > 215, [\"name\", \"height_cm\"]]\n",
    "bios[(bios[\"height_cm\"] > 215) & (bios[\"born_country\"] == \"USA\")]\n",
    "bios[bios[\"name\"].str.contains(\"Keith\", case=True)]\n",
    "bios.query(\"born_country == 'USA' and biosnicity == 'White'\")"
   ]
  },
  {
   "cell_type": "markdown",
   "id": "7958ec6d",
   "metadata": {},
   "source": [
    "## Adding & Removing Columns"
   ]
  },
  {
   "cell_type": "code",
   "execution_count": null,
   "id": "969d3ed2",
   "metadata": {},
   "outputs": [],
   "source": [
    "coffee[\"price\"] = 4.99\n",
    "import numpy as np\n",
    "coffee[\"new_price\"] = np.where(coffee[\"coffee_type\"] == \"Espresso\", 3.99, 5.99)\n",
    "coffee.drop(0)\n",
    "coffee.drop(columns=[\"price\"])\n",
    "coffee.drop(columns=[\"price\"], inplace=True)\n",
    "coffee = coffee[[\"Day\", \"coffee_type\"]]\n",
    "coffee[\"revenue\"] = coffee[\"Units Sold\"] * coffee[\"new_price\"]\n",
    "coffee.rename(columns={\"new_price\": \"Price\"}, inplace=True)\n",
    "coffee.head()"
   ]
  },
  {
   "cell_type": "markdown",
   "id": "e4d6de79",
   "metadata": {},
   "source": [
    "## String Operations"
   ]
  },
  {
   "cell_type": "code",
   "execution_count": null,
   "id": "f881d830",
   "metadata": {},
   "outputs": [],
   "source": [
    "bios_new = bios.copy()\n",
    "bios_new[\"first_name\"] = bios_new[\"name\"].str.split(\" \").str[0]\n",
    "bios_new.query(\"first_name == 'Keith'\")\n",
    "bios.head()"
   ]
  },
  {
   "cell_type": "markdown",
   "id": "32aabcf8",
   "metadata": {},
   "source": [
    "## DateTime Operations"
   ]
  },
  {
   "cell_type": "code",
   "execution_count": null,
   "id": "d10c6590",
   "metadata": {},
   "outputs": [],
   "source": [
    "bios_new[\"born_datetime\"] = pd.to_datetime(bios_new[\"born_date\"])\n",
    "bios_new[\"born_year\"] = bios_new[\"born_datetime\"].dt.year\n",
    "bios_new[[\"name\", \"born_year\"]]"
   ]
  },
  {
   "cell_type": "markdown",
   "id": "a698013f",
   "metadata": {},
   "source": [
    "## Saving DataFrame"
   ]
  },
  {
   "cell_type": "code",
   "execution_count": null,
   "id": "64b871a3",
   "metadata": {},
   "outputs": [],
   "source": [
    "bios_new.to_csv(\"data/bios-new.csv\", index=False)"
   ]
  },
  {
   "cell_type": "markdown",
   "id": "627d91bf",
   "metadata": {},
   "source": [
    "## Custom Columns using Lambda and Apply"
   ]
  },
  {
   "cell_type": "code",
   "execution_count": null,
   "id": "dc33ee94",
   "metadata": {},
   "outputs": [],
   "source": [
    "bios[\"height_category\"] = bios[\"height_cm\"].apply(\n",
    "    lambda x: \"Short\" if x < 165 else (\"Average\" if x < 185 else \"Tall\"))"
   ]
  },
  {
   "cell_type": "code",
   "execution_count": null,
   "id": "c75c6277",
   "metadata": {},
   "outputs": [],
   "source": [
    "def categorize_athlete(row):\n",
    "    if row[\"height_cm\"] > 195 and row[\"weight_kg\"] < 75:\n",
    "        return \"Lightweight\"\n",
    "    elif row[\"height_cm\"] < 185 or row[\"weight_kg\"] <= 80:\n",
    "        return \"Midweight\"\n",
    "    else:\n",
    "        return \"Heavyweight\"\n",
    "\n",
    "bios[\"category\"] = bios.apply(categorize_athlete, axis=1)\n",
    "bios.head()"
   ]
  },
  {
   "cell_type": "markdown",
   "id": "3db768f1",
   "metadata": {},
   "source": [
    "## Advanced Functionality"
   ]
  },
  {
   "cell_type": "code",
   "execution_count": null,
   "id": "677ff3bd",
   "metadata": {},
   "outputs": [],
   "source": [
    "coffee[\"yesterday_revenue\"] = coffee[\"revenue\"].shift(1)\n",
    "bios[\"height_rank\"] = bios[\"height_cm\"].rank()\n",
    "bios.sort_values(\"height_rank\", ascending=False)\n",
    "coffee[\"cumulative_revenue\"] = coffee[\"revenue\"].cumsum()\n",
    "latte = coffee[coffee[\"coffee_type\"] == \"latte\"].copy()\n",
    "latte[\"3day_sum\"] = latte[\"Units Sold\"].rolling(3).sum()"
   ]
  },
  {
   "cell_type": "markdown",
   "id": "2a6b1b18",
   "metadata": {},
   "source": [
    "## Handling Null Values"
   ]
  },
  {
   "cell_type": "code",
   "execution_count": null,
   "id": "47778195",
   "metadata": {},
   "outputs": [],
   "source": [
    "coffee.loc[0, \"Units Sold\"] = np.nan\n",
    "coffee = coffee.fillna(0)\n",
    "coffee.fillna(coffee[\"Units Sold\"].mean(), inplace=True)\n",
    "coffee.interpolate(inplace=True)\n",
    "coffee.dropna()\n",
    "coffee.dropna(subset=[\"Units Sold\"], inplace=True)\n",
    "coffee[coffee[\"Units Sold\"].isna()]"
   ]
  },
  {
   "cell_type": "markdown",
   "id": "c7b54e7d",
   "metadata": {},
   "source": [
    "## Aggregating Data"
   ]
  },
  {
   "cell_type": "code",
   "execution_count": null,
   "id": "74ba25a4",
   "metadata": {},
   "outputs": [],
   "source": [
    "coffee.groupby(\"coffee_type\")[\"Units Sold\"].mean()\n",
    "pivot = coffee.pivot(columns=\"coffee_type\", index=\"Day\", values=\"revenue\")\n",
    "pivot.sum()\n",
    "pivot.sum(axis=1)"
   ]
  },
  {
   "cell_type": "markdown",
   "id": "55d8ebec",
   "metadata": {},
   "source": [
    "## Merging and Concatenating Data"
   ]
  },
  {
   "cell_type": "code",
   "execution_count": null,
   "id": "1afc0e9e",
   "metadata": {},
   "outputs": [],
   "source": [
    "nos = pd.read_csv(\"data/noc-regions.csv\")\n",
    "bios_new = pd.merge(bios, nos, left_on=\"born_country\", right_on=\"NOC\", how=\"left\")\n",
    "bios_new.rename(columns={\"region\": \"born_country_full\"}, inplace=True)\n",
    "combined_df = pd.merge(results, bios, on=\"athlete_id\", how=\"left\")"
   ]
  },
  {
   "cell_type": "markdown",
   "id": "f03e5a5c",
   "metadata": {},
   "source": [
    "### Concatenation"
   ]
  },
  {
   "cell_type": "code",
   "execution_count": null,
   "id": "15506dde",
   "metadata": {},
   "outputs": [],
   "source": [
    "usa = bios[bios[\"born_country\"] == \"USA\"].copy()\n",
    "gbr = bios[bios[\"born_country\"] == \"GBR\"].copy()\n",
    "new_df = pd.concat([usa, gbr])"
   ]
  }
 ],
 "metadata": {},
 "nbformat": 4,
 "nbformat_minor": 5
}
