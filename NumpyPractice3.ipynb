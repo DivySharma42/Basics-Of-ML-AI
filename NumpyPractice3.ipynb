{
  "nbformat": 4,
  "nbformat_minor": 0,
  "metadata": {
    "colab": {
      "provenance": []
    },
    "kernelspec": {
      "name": "python3",
      "display_name": "Python 3"
    },
    "language_info": {
      "name": "python"
    }
  },
  "cells": [
    {
      "cell_type": "code",
      "execution_count": null,
      "metadata": {
        "id": "H4dJjuzg4IzC"
      },
      "outputs": [],
      "source": [
        "import numpy as np\n",
        "import pandas as pd"
      ]
    },
    {
      "cell_type": "markdown",
      "source": [
        "1.\tCreate a NumPy array of shape (3,3) filled with random integers between 1 and 100."
      ],
      "metadata": {
        "id": "gujAFVSo9coS"
      }
    },
    {
      "cell_type": "code",
      "source": [
        "arr1 = np.random.randint (1,100, size = (3,3))\n",
        "arr1"
      ],
      "metadata": {
        "colab": {
          "base_uri": "https://localhost:8080/"
        },
        "id": "gj_dR4a09ech",
        "outputId": "9b23832a-6aee-40d3-d4d2-97c6f9d248ad"
      },
      "execution_count": null,
      "outputs": [
        {
          "output_type": "execute_result",
          "data": {
            "text/plain": [
              "array([[98, 53, 13],\n",
              "       [57, 31, 46],\n",
              "       [33, 70, 50]])"
            ]
          },
          "metadata": {},
          "execution_count": 10
        }
      ]
    },
    {
      "cell_type": "markdown",
      "source": [
        "2.\tReplace all odd numbers in a NumPy array with -1 without using a loop."
      ],
      "metadata": {
        "id": "lnjM35H5-v4q"
      }
    },
    {
      "cell_type": "code",
      "source": [
        "arr2 = np.random.randint (1,100, size = (3,3))\n",
        "arr2\n",
        "arr2[arr2 % 2 == 1] = -1\n",
        "arr2"
      ],
      "metadata": {
        "colab": {
          "base_uri": "https://localhost:8080/"
        },
        "id": "XPsm8bHf-yl5",
        "outputId": "eac65897-9083-4dfd-a93b-8660abe4e9e7"
      },
      "execution_count": null,
      "outputs": [
        {
          "output_type": "execute_result",
          "data": {
            "text/plain": [
              "array([[-1, -1, -1],\n",
              "       [58, 66, 18],\n",
              "       [-1, -1, -1]])"
            ]
          },
          "metadata": {},
          "execution_count": 13
        }
      ]
    },
    {
      "cell_type": "markdown",
      "source": [
        "3.\tGiven a NumPy array, find the indices of all elements greater than a given value."
      ],
      "metadata": {
        "id": "8TFKjjzlAmsq"
      }
    },
    {
      "cell_type": "code",
      "source": [
        "arr3 = np.random.randint (1,100, size = (3,3))\n",
        "indices = np.where(arr3 >= 50)\n",
        "indices"
      ],
      "metadata": {
        "colab": {
          "base_uri": "https://localhost:8080/"
        },
        "id": "KoNv_oeK_kuA",
        "outputId": "c93988e4-95a2-40ec-8a92-7dd62734f1d9"
      },
      "execution_count": null,
      "outputs": [
        {
          "output_type": "execute_result",
          "data": {
            "text/plain": [
              "(array([0, 0, 1, 1, 2, 2]), array([1, 2, 0, 2, 0, 2]))"
            ]
          },
          "metadata": {},
          "execution_count": 15
        }
      ]
    },
    {
      "cell_type": "markdown",
      "source": [
        "4.\tConvert a 1D NumPy array into a 2D matrix of shape (n, m)."
      ],
      "metadata": {
        "id": "5JnRJlWCCWGC"
      }
    },
    {
      "cell_type": "code",
      "source": [
        "arr4 = np.array([1,2,3,4,5])\n",
        "arr5 = arr4.reshape(5,1)\n",
        "arr5\n"
      ],
      "metadata": {
        "colab": {
          "base_uri": "https://localhost:8080/"
        },
        "id": "4n6OGTDf_u2e",
        "outputId": "160a4e0b-78b5-4ae3-9b4b-a693f1b223bf"
      },
      "execution_count": null,
      "outputs": [
        {
          "output_type": "execute_result",
          "data": {
            "text/plain": [
              "array([[1],\n",
              "       [2],\n",
              "       [3],\n",
              "       [4],\n",
              "       [5]])"
            ]
          },
          "metadata": {},
          "execution_count": 21
        }
      ]
    },
    {
      "cell_type": "markdown",
      "source": [
        "5.\tCompute the sum of all elements in a NumPy array along axis 0 and axis 1."
      ],
      "metadata": {
        "id": "d7jH0xKACXUr"
      }
    },
    {
      "cell_type": "code",
      "source": [
        "arr6 = np.random.randint (1,100, size = (3,3))\n",
        "arr6\n",
        "xaxis = np.sum(arr6, axis = 0)\n",
        "yaxis = np.sum(arr6, axis = 1)\n",
        "print(xaxis)\n",
        "print(yaxis)\n",
        "arr6"
      ],
      "metadata": {
        "colab": {
          "base_uri": "https://localhost:8080/"
        },
        "id": "YtjHrmjiBH8r",
        "outputId": "a6ff430e-b0f6-4b85-871e-622e28a90b99"
      },
      "execution_count": null,
      "outputs": [
        {
          "output_type": "stream",
          "name": "stdout",
          "text": [
            "[167 111 193]\n",
            "[220 141 110]\n"
          ]
        },
        {
          "output_type": "execute_result",
          "data": {
            "text/plain": [
              "array([[58, 83, 79],\n",
              "       [62, 22, 57],\n",
              "       [47,  6, 57]])"
            ]
          },
          "metadata": {},
          "execution_count": 26
        }
      ]
    },
    {
      "cell_type": "code",
      "source": [],
      "metadata": {
        "id": "PoOLGFYzCgW2"
      },
      "execution_count": null,
      "outputs": []
    },
    {
      "cell_type": "markdown",
      "source": [
        "6.\tNormalize a NumPy array (scale values to a range between 0 and 1)."
      ],
      "metadata": {
        "id": "I5IjDtnCUdZv"
      }
    },
    {
      "cell_type": "code",
      "source": [
        "import numpy as np\n",
        "arr7 = np.array([1,2,3,4,5])\n",
        "arr7 = (arr7 - np.min(arr7)) / (np.max(arr7) - np.min(arr7))\n",
        "arr7"
      ],
      "metadata": {
        "colab": {
          "base_uri": "https://localhost:8080/"
        },
        "id": "2HBCibX3UgOE",
        "outputId": "6719c955-ba21-4c1e-fe20-25e74fb8aaca"
      },
      "execution_count": 4,
      "outputs": [
        {
          "output_type": "execute_result",
          "data": {
            "text/plain": [
              "array([0.  , 0.25, 0.5 , 0.75, 1.  ])"
            ]
          },
          "metadata": {},
          "execution_count": 4
        }
      ]
    },
    {
      "cell_type": "code",
      "source": [],
      "metadata": {
        "id": "s9iCmZGMVK5a"
      },
      "execution_count": null,
      "outputs": []
    },
    {
      "cell_type": "markdown",
      "source": [
        "7.\tStack two NumPy arrays vertically and horizontally."
      ],
      "metadata": {
        "id": "dIMaWLYOVdzE"
      }
    },
    {
      "cell_type": "code",
      "source": [
        "arr8 = np.random.randint(1,100, size = (3,3))\n",
        "arr9 = np.random.randint(1,100, size = (3,3))\n",
        "arr8\n",
        "arr9\n",
        "\n",
        "print(np.vstack((arr8,arr9)))\n",
        "print(np.hstack((arr8,arr9)))"
      ],
      "metadata": {
        "colab": {
          "base_uri": "https://localhost:8080/"
        },
        "id": "D7jvkOe4VhLB",
        "outputId": "d147f455-775a-4d5b-b3ff-93089bbecc5c"
      },
      "execution_count": 5,
      "outputs": [
        {
          "output_type": "stream",
          "name": "stdout",
          "text": [
            "[[37 21 30]\n",
            " [79 56 54]\n",
            " [16 16 28]\n",
            " [87 67 72]\n",
            " [ 5 70 34]\n",
            " [95 97 50]]\n",
            "[[37 21 30 87 67 72]\n",
            " [79 56 54  5 70 34]\n",
            " [16 16 28 95 97 50]]\n"
          ]
        }
      ]
    },
    {
      "cell_type": "code",
      "source": [],
      "metadata": {
        "id": "QC9nQUyKWFTE"
      },
      "execution_count": null,
      "outputs": []
    },
    {
      "cell_type": "markdown",
      "source": [
        "8.\tGiven a 2D array, swap two rows and swap two columns."
      ],
      "metadata": {
        "id": "Xfw-awn3WKDe"
      }
    },
    {
      "cell_type": "code",
      "source": [
        "arr10 = np.random.randint(2,20, size = (2,2))\n",
        "arr10\n",
        "arr10 = arr10[:,[1,0]]\n",
        "arr10"
      ],
      "metadata": {
        "colab": {
          "base_uri": "https://localhost:8080/"
        },
        "id": "jJSDrmuCWOPT",
        "outputId": "81c3df72-2070-43df-fa05-2472183f788c"
      },
      "execution_count": 7,
      "outputs": [
        {
          "output_type": "execute_result",
          "data": {
            "text/plain": [
              "array([[ 2, 16],\n",
              "       [19,  2]])"
            ]
          },
          "metadata": {},
          "execution_count": 7
        }
      ]
    },
    {
      "cell_type": "code",
      "source": [],
      "metadata": {
        "id": "ax04dDJ3W975"
      },
      "execution_count": null,
      "outputs": []
    },
    {
      "cell_type": "markdown",
      "source": [
        "9.\tFind the mean, median, and standard deviation of a NumPy array."
      ],
      "metadata": {
        "id": "Y4d_aeRMXMLB"
      }
    },
    {
      "cell_type": "code",
      "source": [
        "arr11 = np.array([1,2,3,4,5])\n",
        "print(np.mean(arr11))\n",
        "print(np.median(arr11))\n",
        "print(np.std(arr11))"
      ],
      "metadata": {
        "colab": {
          "base_uri": "https://localhost:8080/"
        },
        "id": "sruB4PSSXMr-",
        "outputId": "29d0aa05-2e4e-4ff0-edd8-57d8dddc5c1f"
      },
      "execution_count": 8,
      "outputs": [
        {
          "output_type": "stream",
          "name": "stdout",
          "text": [
            "3.0\n",
            "3.0\n",
            "1.4142135623730951\n"
          ]
        }
      ]
    },
    {
      "cell_type": "code",
      "source": [],
      "metadata": {
        "id": "ej9ZfoocXYj-"
      },
      "execution_count": null,
      "outputs": []
    },
    {
      "cell_type": "markdown",
      "source": [
        "10.\tFind the unique elements and their counts in a NumPy array."
      ],
      "metadata": {
        "id": "TMJ9sUmYXcij"
      }
    },
    {
      "cell_type": "code",
      "source": [
        "arr12 = np.array([1,2,2,3,4,555,4,4,4,4,4,5,6,6])\n",
        "unique = np.unique(arr12)\n",
        "print(unique)\n"
      ],
      "metadata": {
        "colab": {
          "base_uri": "https://localhost:8080/"
        },
        "id": "VpkhRoVJXgab",
        "outputId": "8da1de63-8715-4425-c381-0f0b47e2a94c"
      },
      "execution_count": 11,
      "outputs": [
        {
          "output_type": "stream",
          "name": "stdout",
          "text": [
            "[  1   2   3   4   5   6 555]\n"
          ]
        }
      ]
    },
    {
      "cell_type": "code",
      "source": [],
      "metadata": {
        "id": "QLW9H-CvYNfO"
      },
      "execution_count": null,
      "outputs": []
    },
    {
      "cell_type": "markdown",
      "source": [
        "11.\tWrite a function to find the dot product and cross product of two NumPy arrays."
      ],
      "metadata": {
        "id": "7YDPm4vwc7Nr"
      }
    },
    {
      "cell_type": "code",
      "source": [
        "arr13 = np.array([1,2,3])\n",
        "arr14 = np.array([1,2,3])\n",
        "\n",
        "dot = np.dot(arr13,arr14)\n",
        "cross = np.cross(arr13,arr14)\n",
        "\n",
        "print (\"dot = \",dot)\n",
        "print (\"cross = \",cross)"
      ],
      "metadata": {
        "colab": {
          "base_uri": "https://localhost:8080/"
        },
        "id": "B6o6gEVTc7xc",
        "outputId": "e1ff5d2c-88bd-47c0-d3e0-4d34e110f426"
      },
      "execution_count": 13,
      "outputs": [
        {
          "output_type": "stream",
          "name": "stdout",
          "text": [
            "dot =  14\n",
            "cross =  [0 0 0]\n"
          ]
        }
      ]
    },
    {
      "cell_type": "code",
      "source": [],
      "metadata": {
        "id": "_bvodtGcdsWS"
      },
      "execution_count": null,
      "outputs": []
    },
    {
      "cell_type": "markdown",
      "source": [
        "12.\tGiven a 3D NumPy array, extract a specific slice from it."
      ],
      "metadata": {
        "id": "R6X_y1S1eC40"
      }
    },
    {
      "cell_type": "code",
      "source": [
        "arr15 = np.arange(27).reshape(3, 3, 3)\n",
        "\n",
        "\n",
        "arr16 = arr15[1, :, :]\n",
        "print(arr15)\n",
        "print(arr16)"
      ],
      "metadata": {
        "colab": {
          "base_uri": "https://localhost:8080/"
        },
        "id": "zZk037c0eDy2",
        "outputId": "36ac5c6b-49e2-4d34-8fc7-114ec4dc6d69"
      },
      "execution_count": 15,
      "outputs": [
        {
          "output_type": "stream",
          "name": "stdout",
          "text": [
            "[[[ 0  1  2]\n",
            "  [ 3  4  5]\n",
            "  [ 6  7  8]]\n",
            "\n",
            " [[ 9 10 11]\n",
            "  [12 13 14]\n",
            "  [15 16 17]]\n",
            "\n",
            " [[18 19 20]\n",
            "  [21 22 23]\n",
            "  [24 25 26]]]\n",
            "[[ 9 10 11]\n",
            " [12 13 14]\n",
            " [15 16 17]]\n"
          ]
        }
      ]
    },
    {
      "cell_type": "code",
      "source": [],
      "metadata": {
        "id": "cs5QoI7eeQ7h"
      },
      "execution_count": null,
      "outputs": []
    },
    {
      "cell_type": "markdown",
      "source": [
        "13.\tConvert a NumPy array of floats into an array of integers without changing the shape."
      ],
      "metadata": {
        "id": "WMUU2u6_efMf"
      }
    },
    {
      "cell_type": "code",
      "source": [
        "arr17 = np.array([[1.2, 2.8], [3.5, 4.9]])\n",
        "arr18 = arr17.astype(int)\n",
        "print(arr18)"
      ],
      "metadata": {
        "colab": {
          "base_uri": "https://localhost:8080/"
        },
        "id": "rSCZIn7Reh6b",
        "outputId": "69887d49-b883-488e-e34e-d2b4a61b68af"
      },
      "execution_count": 16,
      "outputs": [
        {
          "output_type": "stream",
          "name": "stdout",
          "text": [
            "[[1 2]\n",
            " [3 4]]\n"
          ]
        }
      ]
    },
    {
      "cell_type": "code",
      "source": [],
      "metadata": {
        "id": "XFq2LLsNezBg"
      },
      "execution_count": null,
      "outputs": []
    },
    {
      "cell_type": "markdown",
      "source": [
        "14.\tFind the cumulative sum and cumulative product of elements in a NumPy array."
      ],
      "metadata": {
        "id": "k8OfvoKAe5gb"
      }
    },
    {
      "cell_type": "code",
      "source": [
        "arr19 = np.array([1, 2, 3, 4])\n",
        "\n",
        "arr20 = np.cumsum(arr19)\n",
        "arr21 = np.cumprod(arr19)\n",
        "print(arr20)\n",
        "print(arr21)"
      ],
      "metadata": {
        "colab": {
          "base_uri": "https://localhost:8080/"
        },
        "id": "Flw9mBfde6Ho",
        "outputId": "b767f815-2866-4676-fde8-32d885e3cd23"
      },
      "execution_count": 22,
      "outputs": [
        {
          "output_type": "stream",
          "name": "stdout",
          "text": [
            "[ 1  3  6 10]\n",
            "[ 1  2  6 24]\n"
          ]
        }
      ]
    },
    {
      "cell_type": "code",
      "source": [],
      "metadata": {
        "id": "JwHdG3XQfJnE"
      },
      "execution_count": null,
      "outputs": []
    },
    {
      "cell_type": "markdown",
      "source": [
        "15.\tGenerate a NumPy array of n linearly spaced numbers between a given range."
      ],
      "metadata": {
        "id": "BLvsbVtwf6bv"
      }
    },
    {
      "cell_type": "code",
      "source": [
        "arr22 = np.linspace(0, 20, 5)\n",
        "print(arr22)"
      ],
      "metadata": {
        "colab": {
          "base_uri": "https://localhost:8080/"
        },
        "id": "TQhlzRkmf7Kv",
        "outputId": "b884a674-c19a-4f97-8d0e-daa1dcd016dc"
      },
      "execution_count": 25,
      "outputs": [
        {
          "output_type": "stream",
          "name": "stdout",
          "text": [
            "[ 0.  5. 10. 15. 20.]\n"
          ]
        }
      ]
    },
    {
      "cell_type": "code",
      "source": [],
      "metadata": {
        "id": "k02WXiixgMUL"
      },
      "execution_count": null,
      "outputs": []
    },
    {
      "cell_type": "markdown",
      "source": [
        "16.\tFind the determinant and inverse of a square NumPy matrix."
      ],
      "metadata": {
        "id": "oW7Re_60gUr7"
      }
    },
    {
      "cell_type": "code",
      "source": [
        "arr23 = np.array([[1, 2], [3, 4]])\n",
        "\n",
        "det = np.linalg.det(arr23)\n",
        "inv = np.linalg.inv(arr23)\n",
        "print(\"Determinant:\", det)\n",
        "print(\"Inverse:\\n\", inv)"
      ],
      "metadata": {
        "colab": {
          "base_uri": "https://localhost:8080/"
        },
        "id": "JSibS-0UgXTM",
        "outputId": "9fb5e287-4990-48a7-e92a-d5abae858fe9"
      },
      "execution_count": 26,
      "outputs": [
        {
          "output_type": "stream",
          "name": "stdout",
          "text": [
            "Determinant: -2.0000000000000004\n",
            "Inverse:\n",
            " [[-2.   1. ]\n",
            " [ 1.5 -0.5]]\n"
          ]
        }
      ]
    },
    {
      "cell_type": "code",
      "source": [],
      "metadata": {
        "id": "9Zt8f3TkgkS7"
      },
      "execution_count": null,
      "outputs": []
    },
    {
      "cell_type": "markdown",
      "source": [
        "17.\tSort a NumPy array along a specific axis."
      ],
      "metadata": {
        "id": "uKgeBvyLgyn1"
      }
    },
    {
      "cell_type": "code",
      "source": [
        "\n",
        "arr24 = np.random.randint(5, 20, 2)\n",
        "arr25 = np.sort(arr24, axis=0)\n",
        "print(arr25)"
      ],
      "metadata": {
        "colab": {
          "base_uri": "https://localhost:8080/"
        },
        "id": "6Oa04ycqgzKo",
        "outputId": "753037dd-c028-47d9-d4c4-9ba5bc84bd42"
      },
      "execution_count": 33,
      "outputs": [
        {
          "output_type": "stream",
          "name": "stdout",
          "text": [
            "[ 6 12]\n"
          ]
        }
      ]
    },
    {
      "cell_type": "code",
      "source": [],
      "metadata": {
        "id": "QA-XjPYchDpJ"
      },
      "execution_count": null,
      "outputs": []
    },
    {
      "cell_type": "markdown",
      "source": [
        "18.\tFilter out NaN values from a NumPy array and replace them with a given value."
      ],
      "metadata": {
        "id": "R9bdNXW6hYGx"
      }
    },
    {
      "cell_type": "code",
      "source": [
        "\n",
        "arr26 = np.array([1, np.nan, 2, np.nan, 3])\n",
        "\n",
        "arr27 = np.nan_to_num(arr26, nan=2)\n",
        "arr27"
      ],
      "metadata": {
        "colab": {
          "base_uri": "https://localhost:8080/"
        },
        "id": "3NWMbjs1hbXE",
        "outputId": "be8080e8-0998-40af-c0e5-a28a7a8dfe16"
      },
      "execution_count": 37,
      "outputs": [
        {
          "output_type": "execute_result",
          "data": {
            "text/plain": [
              "array([1., 2., 2., 2., 3.])"
            ]
          },
          "metadata": {},
          "execution_count": 37
        }
      ]
    },
    {
      "cell_type": "code",
      "source": [],
      "metadata": {
        "id": "SmsX0L4uhy-m"
      },
      "execution_count": null,
      "outputs": []
    },
    {
      "cell_type": "markdown",
      "source": [
        "19.\tGiven a NumPy array, find the indices of the top k largest values"
      ],
      "metadata": {
        "id": "owjG0apUh67L"
      }
    },
    {
      "cell_type": "code",
      "source": [
        "arr28 = np.array([10, 20, 5, 30, 25])\n",
        "k = 3\n",
        "\n",
        "arr29 = arr28.argsort()[-k:][::-1]\n",
        "print(arr29)"
      ],
      "metadata": {
        "colab": {
          "base_uri": "https://localhost:8080/"
        },
        "id": "9mz4LoNHh-nC",
        "outputId": "5b89ed6c-4ffb-4208-b357-2b59e718be02"
      },
      "execution_count": 38,
      "outputs": [
        {
          "output_type": "stream",
          "name": "stdout",
          "text": [
            "[3 4 1]\n"
          ]
        }
      ]
    },
    {
      "cell_type": "code",
      "source": [],
      "metadata": {
        "id": "2WP60WDxicQE"
      },
      "execution_count": null,
      "outputs": []
    },
    {
      "cell_type": "markdown",
      "source": [
        "20.\tPerform element-wise addition, subtraction, multiplication, and division on two NumPy arrays of the same shape."
      ],
      "metadata": {
        "id": "vzCrEBUVilXX"
      }
    },
    {
      "cell_type": "code",
      "source": [
        "arr30 = np.array([1, 2, 3])\n",
        "arr31 = np.array([4, 5, 6])\n",
        "\n",
        "add = arr30 + arr31\n",
        "sub = arr30 - arr31\n",
        "mul = arr30 * arr31\n",
        "div = arr30 / arr31\n",
        "print(\"Add:\", add)\n",
        "print(\"Subtract:\", sub)\n",
        "print(\"Multiply:\", mul)\n",
        "print(\"Divide:\", div)"
      ],
      "metadata": {
        "colab": {
          "base_uri": "https://localhost:8080/"
        },
        "id": "DzP4ib36il9t",
        "outputId": "31c4ba98-472a-47d4-a70c-29e6951222f7"
      },
      "execution_count": 40,
      "outputs": [
        {
          "output_type": "stream",
          "name": "stdout",
          "text": [
            "Add: [5 7 9]\n",
            "Subtract: [-3 -3 -3]\n",
            "Multiply: [ 4 10 18]\n",
            "Divide: [0.25 0.4  0.5 ]\n"
          ]
        }
      ]
    },
    {
      "cell_type": "code",
      "source": [],
      "metadata": {
        "id": "V7Lxksbtiw3R"
      },
      "execution_count": null,
      "outputs": []
    }
  ]
}