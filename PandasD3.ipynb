{
 "cells": [
  {
   "cell_type": "markdown",
   "id": "2285b3b2",
   "metadata": {},
   "source": [
    "# Python Pandas Notes"
   ]
  },
  {
   "cell_type": "markdown",
   "id": "0c89966c",
   "metadata": {},
   "source": [
    "## Sorting"
   ]
  },
  {
   "cell_type": "code",
   "execution_count": null,
   "id": "180f0455",
   "metadata": {},
   "outputs": [],
   "source": [
    "# Decreasing order\n",
    "coffee.sort_values(\"Units Sold\", ascending=False)\n",
    "\n",
    "# Multiple columns\n",
    "coffee.sort_values([\"Day\"], ascending=[0])"
   ]
  },
  {
   "cell_type": "markdown",
   "id": "1f70abad",
   "metadata": {},
   "source": [
    "## Filtering Data"
   ]
  },
  {
   "cell_type": "code",
   "execution_count": null,
   "id": "3d886156",
   "metadata": {},
   "outputs": [],
   "source": [
    "bios.info()\n",
    "\n",
    "# Convert height & weight to float if needed\n",
    "# Filtering using .loc\n",
    "bios.loc[bios[\"height_cm\"] > 215, [\"name\", \"height_cm\"]]\n",
    "\n",
    "# Multiple conditions\n",
    "bios[(bios[\"height_cm\"] > 215) & (bios[\"born_country\"] == \"USA\")]\n",
    "\n",
    "# String operations\n",
    "bios[bios[\"name\"].str.contains(\"Keith\", case=True)]\n",
    "\n",
    "# Using .query()\n",
    "bios.query(\"born_country == 'USA' and biosnicity == 'White'\")"
   ]
  },
  {
   "cell_type": "markdown",
   "id": "09e5adea",
   "metadata": {},
   "source": [
    "## Adding & Removing Columns"
   ]
  },
  {
   "cell_type": "code",
   "execution_count": null,
   "id": "c1b92296",
   "metadata": {},
   "outputs": [],
   "source": [
    "coffee[\"price\"] = 4.99\n",
    "\n",
    "# Using numpy for conditions\n",
    "import numpy as np\n",
    "coffee[\"new_price\"] = np.where(coffee[\"coffee_type\"] == \"Espresso\", 3.99, 5.99)\n",
    "\n",
    "# Drop rows/columns\n",
    "coffee.drop(0)  # Removes 0th index row temporarily\n",
    "coffee.drop(columns=[\"price\"])  # Removes price column temporarily\n",
    "coffee.drop(columns=[\"price\"], inplace=True)  # Removes price column permanently"
   ]
  },
  {
   "cell_type": "code",
   "execution_count": null,
   "id": "50ad2e97",
   "metadata": {},
   "outputs": [],
   "source": [
    "# Selecting multiple columns\n",
    "coffee = coffee[[\"Day\", \"coffee_type\"]]\n",
    "\n",
    "# New column based on calculations\n",
    "coffee[\"revenue\"] = coffee[\"Units Sold\"] * coffee[\"new_price\"]\n",
    "coffee.head()\n",
    "\n",
    "# Renaming columns\n",
    "coffee.rename(columns={\"new_price\": \"Price\"}, inplace=True)\n",
    "coffee"
   ]
  },
  {
   "cell_type": "markdown",
   "id": "85b14b82",
   "metadata": {},
   "source": [
    "## String Operations"
   ]
  },
  {
   "cell_type": "code",
   "execution_count": null,
   "id": "fa679a0c",
   "metadata": {},
   "outputs": [],
   "source": [
    "bios_new = bios.copy()\n",
    "\n",
    "# Extracting first name\n",
    "bios_new[\"first_name\"] = bios_new[\"name\"].str.split(\" \").str[0]\n",
    "\n",
    "# Query with string filter\n",
    "bios_new.query(\"first_name == 'Keith'\")\n",
    "\n",
    "bios.head()"
   ]
  },
  {
   "cell_type": "markdown",
   "id": "063d5806",
   "metadata": {},
   "source": [
    "## DateTime Operations"
   ]
  },
  {
   "cell_type": "code",
   "execution_count": null,
   "id": "04812185",
   "metadata": {},
   "outputs": [],
   "source": [
    "bios_new[\"born_datetime\"] = pd.to_datetime(bios_new[\"born_date\"])\n",
    "bios_new[\"born_year\"] = bios_new[\"born_datetime\"].dt.year\n",
    "\n",
    "bios_new[[\"name\", \"born_year\"]]"
   ]
  },
  {
   "cell_type": "markdown",
   "id": "cb00b05e",
   "metadata": {},
   "source": [
    "## Saving DataFrame"
   ]
  },
  {
   "cell_type": "code",
   "execution_count": null,
   "id": "5d98ac78",
   "metadata": {},
   "outputs": [],
   "source": [
    "bios_new.to_csv(\"data/bios-new.csv\", index=False)"
   ]
  },
  {
   "cell_type": "markdown",
   "id": "7d30728b",
   "metadata": {},
   "source": [
    "## Custom Columns using Lambda and Apply"
   ]
  },
  {
   "cell_type": "code",
   "execution_count": null,
   "id": "bac8f44b",
   "metadata": {},
   "outputs": [],
   "source": [
    "bios[\"height_category\"] = bios[\"height_cm\"].apply(\n",
    "    lambda x: \"Short\" if x < 165 else (\"Average\" if x < 185 else \"Tall\")\n",
    ")"
   ]
  },
  {
   "cell_type": "code",
   "execution_count": null,
   "id": "77419052",
   "metadata": {},
   "outputs": [],
   "source": [
    "def categorize_athlete(row):\n",
    "    if row[\"height_cm\"] > 195 and row[\"weight_kg\"] < 75:\n",
    "        return \"Lightweight\"\n",
    "    elif row[\"height_cm\"] < 185 or row[\"weight_kg\"] <= 80:\n",
    "        return \"Midweight\"\n",
    "    else:\n",
    "        return \"Heavyweight\"\n",
    "\n",
    "bios[\"category\"] = bios.apply(categorize_athlete, axis=1)\n",
    "bios.head()"
   ]
  },
  {
   "cell_type": "markdown",
   "id": "31c24fc1",
   "metadata": {},
   "source": [
    "## Merging and Concatenating Data"
   ]
  }
 ],
 "metadata": {},
 "nbformat": 4,
 "nbformat_minor": 5
}
