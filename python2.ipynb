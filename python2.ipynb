{
  "nbformat": 4,
  "nbformat_minor": 0,
  "metadata": {
    "colab": {
      "provenance": []
    },
    "kernelspec": {
      "name": "python3",
      "display_name": "Python 3"
    },
    "language_info": {
      "name": "python"
    }
  },
  "cells": [
    {
      "cell_type": "code",
      "execution_count": null,
      "metadata": {
        "id": "Y9olnDL4d_Wt"
      },
      "outputs": [],
      "source": []
    },
    {
      "cell_type": "markdown",
      "source": [
        "###User Input"
      ],
      "metadata": {
        "id": "w1Zl8FYajDwq"
      }
    },
    {
      "cell_type": "markdown",
      "source": [],
      "metadata": {
        "id": "QoevjCbsjGdy"
      }
    },
    {
      "cell_type": "code",
      "source": [
        "name = input(\"what is your name ?\")\n",
        "print (\"your name is : \"+name)"
      ],
      "metadata": {
        "colab": {
          "base_uri": "https://localhost:8080/"
        },
        "id": "bOMimF3jjLuw",
        "outputId": "744827e9-2ada-48d6-b33e-6f3b2670c9dc"
      },
      "execution_count": 1,
      "outputs": [
        {
          "output_type": "stream",
          "name": "stdout",
          "text": [
            "what is your name ?hero honda\n",
            "your name is : hero honda\n"
          ]
        }
      ]
    },
    {
      "cell_type": "code",
      "source": [
        "name = input(\"what is your name ?\")\n",
        "age = input(\"what is your age ?\")\n",
        "\n",
        "print (\"your name is : \"+name)\n",
        "print (\"your age is : \"+str(age))"
      ],
      "metadata": {
        "colab": {
          "base_uri": "https://localhost:8080/"
        },
        "id": "8JSzvo-jjgpX",
        "outputId": "d978deab-dfe5-4da5-d00b-083fd689eeb5"
      },
      "execution_count": 2,
      "outputs": [
        {
          "output_type": "stream",
          "name": "stdout",
          "text": [
            "what is your name ?heroine\n",
            "what is your age ?19\n",
            "your name is : heroine\n",
            "your age is : 19\n"
          ]
        }
      ]
    },
    {
      "cell_type": "code",
      "source": [],
      "metadata": {
        "id": "XQvU4mITj8mg"
      },
      "execution_count": null,
      "outputs": []
    },
    {
      "cell_type": "markdown",
      "source": [
        "###Maths Functions"
      ],
      "metadata": {
        "id": "lbxz6d9akVid"
      }
    },
    {
      "cell_type": "code",
      "source": [
        "import math"
      ],
      "metadata": {
        "id": "xbcnCCaKka2q"
      },
      "execution_count": 3,
      "outputs": []
    },
    {
      "cell_type": "code",
      "source": [
        "pi=3.14\n",
        "x=1\n",
        "y=5\n",
        "z=4\n",
        "\n",
        "print(math.ceil(pi))\n",
        "print(math.floor(pi))\n",
        "print(round(pi))\n",
        "print(abs(pi))\n",
        "print(pow(pi,2))\n",
        "print(math.sqrt(pi))\n",
        "print(max(x,y,z))\n",
        "print(min(x,y,z))\n"
      ],
      "metadata": {
        "colab": {
          "base_uri": "https://localhost:8080/"
        },
        "id": "B1aljU2tkdWt",
        "outputId": "55905ab0-3372-43bd-defd-3e2d0c7b8240"
      },
      "execution_count": 4,
      "outputs": [
        {
          "output_type": "stream",
          "name": "stdout",
          "text": [
            "4\n",
            "3\n",
            "3\n",
            "3.14\n",
            "9.8596\n",
            "1.772004514666935\n",
            "5\n",
            "1\n"
          ]
        }
      ]
    },
    {
      "cell_type": "markdown",
      "source": [
        "###slicing and indexing###\n"
      ],
      "metadata": {
        "id": "c5hnVYcRq_at"
      }
    },
    {
      "cell_type": "code",
      "source": [
        "name = \"hero honda\"\n",
        "first_name = name[:5]\n",
        "last_name = name[5:]\n",
        "funky_name = name[::2]\n",
        "reversed_name = name[::-1]\n",
        "\n",
        "print(first_name)\n",
        "print(last_name)\n",
        "print(funky_name)\n",
        "print(reversed_name)"
      ],
      "metadata": {
        "colab": {
          "base_uri": "https://localhost:8080/"
        },
        "id": "LSfHXILjlBqN",
        "outputId": "0746067f-a1a8-44cb-efa3-f61bb33508ed"
      },
      "execution_count": 7,
      "outputs": [
        {
          "output_type": "stream",
          "name": "stdout",
          "text": [
            "hero \n",
            "honda\n",
            "hr od\n",
            "adnoh oreh\n"
          ]
        }
      ]
    },
    {
      "cell_type": "code",
      "source": [],
      "metadata": {
        "id": "SoND0SfwsekJ"
      },
      "execution_count": null,
      "outputs": []
    },
    {
      "cell_type": "markdown",
      "source": [
        "###Conditional statememts"
      ],
      "metadata": {
        "id": "2bBzERHTs9HS"
      }
    },
    {
      "cell_type": "code",
      "source": [
        "dev = int(input(\"enter your age : \"))\n",
        "if dev == 100:\n",
        "  print(\"you are a century old hag\")\n",
        "elif dev >= 18:\n",
        "  print(\"you are an adult\")\n",
        "elif dev < 18:\n",
        "  print(\"you are not an adult\")\n",
        "else :\n",
        "\n",
        "  print (\"you are still in the sack\")"
      ],
      "metadata": {
        "colab": {
          "base_uri": "https://localhost:8080/"
        },
        "id": "iJSpeqrrtCWp",
        "outputId": "f195b07f-2e96-4594-8f01-35e8f7b0ee48"
      },
      "execution_count": 19,
      "outputs": [
        {
          "output_type": "stream",
          "name": "stdout",
          "text": [
            "enter your age : 63\n",
            "you are an adult\n"
          ]
        }
      ]
    },
    {
      "cell_type": "code",
      "source": [],
      "metadata": {
        "id": "iwLBNJEQuNBu"
      },
      "execution_count": null,
      "outputs": []
    },
    {
      "cell_type": "markdown",
      "source": [
        "###logical ops"
      ],
      "metadata": {
        "id": "yI1ZUihUv4Yf"
      }
    },
    {
      "cell_type": "code",
      "source": [
        "temp = int(input(\"what is the temperature outside? : \"))\n",
        "\n",
        "if temp >= 20 and temp <=33 :\n",
        "  print(\"sexy weather outside !!\")\n",
        "elif temp <13 and temp >33 :\n",
        "  print(\"shitty weather oustide !!\")\n"
      ],
      "metadata": {
        "colab": {
          "base_uri": "https://localhost:8080/"
        },
        "id": "hIjPwfLZv7UD",
        "outputId": "1a2ef012-71b5-453f-864a-25173fc1fb7a"
      },
      "execution_count": 21,
      "outputs": [
        {
          "output_type": "stream",
          "name": "stdout",
          "text": [
            "what is the temperature outside? : 29\n",
            "sexy weather outside !!\n"
          ]
        }
      ]
    },
    {
      "cell_type": "code",
      "source": [],
      "metadata": {
        "id": "-u6m9vHzwsO2"
      },
      "execution_count": null,
      "outputs": []
    }
  ]
}