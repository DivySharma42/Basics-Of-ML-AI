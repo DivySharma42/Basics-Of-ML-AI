{
 "cells": [
  {
   "cell_type": "markdown",
   "id": "27124625",
   "metadata": {},
   "source": [
    "# NumPy Indexing, Broadcasting, and Statistical Functions\n",
    "\n",
    "This notebook demonstrates key NumPy operations including:\n",
    "- Fancy indexing\n",
    "- Boolean and conditional indexing\n",
    "- Broadcasting\n",
    "- Random number generation\n",
    "- Useful statistical functions\n"
   ]
  },
  {
   "cell_type": "markdown",
   "id": "48e398f1",
   "metadata": {},
   "source": [
    "## Fancy Indexing"
   ]
  },
  {
   "cell_type": "code",
   "execution_count": null,
   "id": "4de3c8db",
   "metadata": {},
   "outputs": [],
   "source": [
    "import numpy as np\n",
    "\n",
    "arr6 = [[0, 2, 4]]\n",
    "print(\"Fancy Indexing Example:\")\n",
    "print(arr6)\n"
   ]
  },
  {
   "cell_type": "markdown",
   "id": "9a67d753",
   "metadata": {},
   "source": [
    "## Boolean Indexing and Conditional Indexing"
   ]
  },
  {
   "cell_type": "code",
   "execution_count": null,
   "id": "3e829bb9",
   "metadata": {},
   "outputs": [],
   "source": [
    "arr = np.random.randint(low=1, high=100, size=20).reshape(4, 5)\n",
    "print(\"Original Array:\")\n",
    "print(arr)\n",
    "\n",
    "# Indexing\n",
    "print(\"Element at arr[0][2]:\", arr[0][2])\n",
    "print(\"All elements using ':' indexing:\")\n",
    "print(arr[:])\n",
    "\n",
    "# Conditional indexing\n",
    "bool_arr = arr > 50\n",
    "print(\"Boolean Array (arr > 50):\")\n",
    "print(bool_arr)\n",
    "print(\"Filtered Array (arr > 50):\")\n",
    "print(arr[bool_arr])\n"
   ]
  },
  {
   "cell_type": "markdown",
   "id": "9ebf46c5",
   "metadata": {},
   "source": [
    "## Indexing with Multiple Conditions"
   ]
  },
  {
   "cell_type": "code",
   "execution_count": null,
   "id": "3bf40dbe",
   "metadata": {},
   "outputs": [],
   "source": [
    "# Indexing using multiple conditions\n",
    "arr[(arr > 50) & (arr % 2 != 0)] = 0\n",
    "print(\"Array after setting (arr > 50) & (arr % 2 != 0) to 0:\")\n",
    "print(arr)\n"
   ]
  },
  {
   "cell_type": "markdown",
   "id": "cfaaecc4",
   "metadata": {},
   "source": [
    "## Broadcasting in NumPy"
   ]
  },
  {
   "cell_type": "code",
   "execution_count": null,
   "id": "1a7649b0",
   "metadata": {},
   "outputs": [],
   "source": [
    "a15 = np.arange(4)\n",
    "a16 = np.arange(20).reshape(5, 4)\n",
    "print(\"a15:\", a15)\n",
    "print(\"a16:\\n\", a16)\n"
   ]
  },
  {
   "cell_type": "markdown",
   "id": "1c4ac99a",
   "metadata": {},
   "source": [
    "## Random and Statistical Functions in NumPy"
   ]
  },
  {
   "cell_type": "code",
   "execution_count": null,
   "id": "945c416f",
   "metadata": {},
   "outputs": [],
   "source": [
    "print(\"Some useful NumPy functions:\")\n",
    "\n",
    "np.random.seed(1)\n",
    "print(\"Random Seed 1:\", np.random.rand(3))\n",
    "\n",
    "print(\"Random Int:\", np.random.randint(1, 100, 5))\n",
    "print(\"Random Uniform [1, 100):\", np.random.uniform(1, 100, 5))\n",
    "\n",
    "print(\"Max:\", np.max(arr))\n",
    "print(\"Min:\", np.min(arr))\n",
    "print(\"Average:\", np.average(arr))\n",
    "print(\"Argmin:\", np.argmin(arr))\n",
    "\n",
    "# Sorting and percentile\n",
    "q = np.sort(arr.flatten())\n",
    "print(\"Sorted array:\", q)\n",
    "\n",
    "# Where condition\n",
    "q2 = np.where((arr % 2 == 1), -1, q)\n",
    "print(\"Where condition result:\", q2)\n",
    "\n",
    "# Percentile\n",
    "print(\"50th Percentile:\", np.percentile(q, 50))\n"
   ]
  }
 ],
 "metadata": {},
 "nbformat": 4,
 "nbformat_minor": 5
}
