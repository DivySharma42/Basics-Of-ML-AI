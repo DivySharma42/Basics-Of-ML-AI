{
  "nbformat": 4,
  "nbformat_minor": 0,
  "metadata": {
    "colab": {
      "provenance": []
    },
    "kernelspec": {
      "name": "python3",
      "display_name": "Python 3"
    },
    "language_info": {
      "name": "python"
    }
  },
  "cells": [
    {
      "cell_type": "code",
      "execution_count": null,
      "metadata": {
        "id": "BrXtdI1O7kIY"
      },
      "outputs": [],
      "source": []
    },
    {
      "cell_type": "markdown",
      "source": [
        "###2d lists"
      ],
      "metadata": {
        "id": "bLuPR04f7oGy"
      }
    },
    {
      "cell_type": "code",
      "source": [
        "drinks = [\"cola\",\"ale\",\"coffee\"]\n",
        "dinner = [\"pizza\",\"hotdog\",\"hamburger\"]\n",
        "desserts = [\"cake\",\"ice cream\"]\n",
        "meal = [drinks,dinner,desserts]\n",
        "print(meal)"
      ],
      "metadata": {
        "colab": {
          "base_uri": "https://localhost:8080/"
        },
        "id": "w3AmBDoI7qEl",
        "outputId": "b19df50b-63c9-4fbf-ebd1-4ef98c926448"
      },
      "execution_count": 1,
      "outputs": [
        {
          "output_type": "stream",
          "name": "stdout",
          "text": [
            "[['cola', 'ale', 'coffee'], ['pizza', 'hotdog', 'hamburger'], ['cake', 'ice cream']]\n"
          ]
        }
      ]
    },
    {
      "cell_type": "code",
      "source": [],
      "metadata": {
        "id": "oAEhW-GR-qba"
      },
      "execution_count": null,
      "outputs": []
    },
    {
      "cell_type": "markdown",
      "source": [
        "###tuples\n",
        "\\\n"
      ],
      "metadata": {
        "id": "3TxZgFdh-trx"
      }
    },
    {
      "cell_type": "code",
      "source": [
        "student= (\"hero\", 21, \"male\")\n",
        "print(student[1])"
      ],
      "metadata": {
        "colab": {
          "base_uri": "https://localhost:8080/"
        },
        "id": "EYo9R4xr-weC",
        "outputId": "88420da4-aeaa-43f8-b530-03319583b786"
      },
      "execution_count": 2,
      "outputs": [
        {
          "output_type": "stream",
          "name": "stdout",
          "text": [
            "21\n"
          ]
        }
      ]
    },
    {
      "cell_type": "code",
      "source": [],
      "metadata": {
        "id": "ABDrVp6_-_Wj"
      },
      "execution_count": null,
      "outputs": []
    }
  ]
}