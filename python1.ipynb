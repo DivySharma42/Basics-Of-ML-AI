{
  "nbformat": 4,
  "nbformat_minor": 0,
  "metadata": {
    "colab": {
      "provenance": [],
      "gpuType": "T4"
    },
    "kernelspec": {
      "name": "python3",
      "display_name": "Python 3"
    },
    "language_info": {
      "name": "python"
    },
    "accelerator": "GPU"
  },
  "cells": [
    {
      "cell_type": "code",
      "execution_count": null,
      "metadata": {
        "id": "kmRxSE-UUkP5"
      },
      "outputs": [],
      "source": []
    },
    {
      "cell_type": "markdown",
      "source": [
        "###variables####\n"
      ],
      "metadata": {
        "id": "JFKvMXzhXVJx"
      }
    },
    {
      "cell_type": "code",
      "source": [
        "name =  \"hero\"\n",
        "print (name)\n",
        "print (\" your name is :\" + name)"
      ],
      "metadata": {
        "colab": {
          "base_uri": "https://localhost:8080/"
        },
        "id": "qTRE8inDXZ-l",
        "outputId": "d154e4a5-da6a-4191-a825-69419e350eff"
      },
      "execution_count": 3,
      "outputs": [
        {
          "output_type": "stream",
          "name": "stdout",
          "text": [
            "hero\n",
            " your name is :hero\n"
          ]
        }
      ]
    },
    {
      "cell_type": "code",
      "source": [
        "first_name = \"hero\"\n",
        "last_name = \"honda\"\n",
        "full_name = first_name + \" \" + last_name\n",
        "print (full_name)"
      ],
      "metadata": {
        "colab": {
          "base_uri": "https://localhost:8080/"
        },
        "id": "8PoP9bqEX5SP",
        "outputId": "628cf447-2793-4a88-f68c-c5a955c50156"
      },
      "execution_count": 4,
      "outputs": [
        {
          "output_type": "stream",
          "name": "stdout",
          "text": [
            "hero honda\n"
          ]
        }
      ]
    },
    {
      "cell_type": "code",
      "source": [
        "age = 21\n",
        "age += 3\n",
        "print (\"your sisters age is : \"+ str(age) + \" i like your sister\")"
      ],
      "metadata": {
        "colab": {
          "base_uri": "https://localhost:8080/"
        },
        "id": "YNHj2mdpYao8",
        "outputId": "56847c55-54fd-43b6-ee3f-d28d35874fd0"
      },
      "execution_count": 6,
      "outputs": [
        {
          "output_type": "stream",
          "name": "stdout",
          "text": [
            "your sisters age is : 24 i like your sister\n"
          ]
        }
      ]
    },
    {
      "cell_type": "markdown",
      "source": [],
      "metadata": {
        "id": "0mqPvTa1YwbN"
      }
    },
    {
      "cell_type": "markdown",
      "source": [
        "##multiple assignment##"
      ],
      "metadata": {
        "id": "2Zoa3TAYYylR"
      }
    },
    {
      "cell_type": "code",
      "source": [
        "age, name, attractive = 21, \"hero\", True\n",
        "print (age)\n",
        "print (name)\n",
        "print (attractive)"
      ],
      "metadata": {
        "colab": {
          "base_uri": "https://localhost:8080/"
        },
        "id": "6jO9eTF2Y3oi",
        "outputId": "ce58acca-321c-4929-803a-1b257139875a"
      },
      "execution_count": 7,
      "outputs": [
        {
          "output_type": "stream",
          "name": "stdout",
          "text": [
            "21\n",
            "hero\n",
            "True\n"
          ]
        }
      ]
    },
    {
      "cell_type": "code",
      "source": [],
      "metadata": {
        "id": "e5V_-z31Zl2l"
      },
      "execution_count": null,
      "outputs": []
    },
    {
      "cell_type": "markdown",
      "source": [
        "###string ops###\n"
      ],
      "metadata": {
        "id": "72yPrcbscA6n"
      }
    },
    {
      "cell_type": "code",
      "source": [
        "name = \" hero \"\n",
        "\n",
        "print(len(name))\n",
        "print(name)\n",
        "print(name.find(\"o\"))\n",
        "print(name.capitalize())\n",
        "print(name.upper())\n",
        "print(name.lower())\n",
        "print(name.isdigit())\n",
        "print(name.isalpha())\n",
        "print(name.replace(\"o\", \"a\"))\n",
        "print(name*3)"
      ],
      "metadata": {
        "colab": {
          "base_uri": "https://localhost:8080/"
        },
        "id": "sbk57BjkcGZ7",
        "outputId": "e442a707-36d2-4d7f-9a10-89ebd013a542"
      },
      "execution_count": 8,
      "outputs": [
        {
          "output_type": "stream",
          "name": "stdout",
          "text": [
            "6\n",
            " hero \n",
            "4\n",
            " hero \n",
            " HERO \n",
            " hero \n",
            "False\n",
            "False\n",
            " hera \n",
            " hero  hero  hero \n"
          ]
        }
      ]
    },
    {
      "cell_type": "code",
      "source": [],
      "metadata": {
        "id": "cA2apY9ddIdO"
      },
      "execution_count": null,
      "outputs": []
    },
    {
      "cell_type": "markdown",
      "source": [
        "###typecasting###"
      ],
      "metadata": {
        "id": "i6CPYynvdTwP"
      }
    },
    {
      "cell_type": "code",
      "source": [
        "x=7\n",
        "y=8.0\n",
        "z=\"9\"\n",
        "\n",
        "print(x)\n",
        "print(\"your required piece of shit is : \" +str(y))\n",
        "print(\"here is another one : \"+str(z))"
      ],
      "metadata": {
        "colab": {
          "base_uri": "https://localhost:8080/"
        },
        "id": "BdznlhjcdYzV",
        "outputId": "19b22255-293a-4704-c373-4b5be596da5d"
      },
      "execution_count": 11,
      "outputs": [
        {
          "output_type": "stream",
          "name": "stdout",
          "text": [
            "7\n",
            "your required piece of shit is : 8.0\n",
            "here is another one : 9\n"
          ]
        }
      ]
    },
    {
      "cell_type": "code",
      "source": [],
      "metadata": {
        "id": "JyNhdrNBdoIm"
      },
      "execution_count": null,
      "outputs": []
    }
  ]
}