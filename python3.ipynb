{
  "nbformat": 4,
  "nbformat_minor": 0,
  "metadata": {
    "colab": {
      "provenance": []
    },
    "kernelspec": {
      "name": "python3",
      "display_name": "Python 3"
    },
    "language_info": {
      "name": "python"
    }
  },
  "cells": [
    {
      "cell_type": "code",
      "execution_count": null,
      "metadata": {
        "id": "YJfXb0f1m0gg"
      },
      "outputs": [],
      "source": []
    },
    {
      "cell_type": "markdown",
      "source": [
        "###while loops"
      ],
      "metadata": {
        "id": "nrQRVfBTu570"
      }
    },
    {
      "cell_type": "code",
      "source": [
        "name = \"\"\n",
        "while len (name) == 0:\n",
        "  name = input(\"enter your name: \")\n",
        "  print(name)"
      ],
      "metadata": {
        "colab": {
          "base_uri": "https://localhost:8080/"
        },
        "id": "THXrltl1u-Cw",
        "outputId": "841b5dc1-cecc-4301-bd7a-5e6b70f3499f"
      },
      "execution_count": 1,
      "outputs": [
        {
          "output_type": "stream",
          "name": "stdout",
          "text": [
            "enter your name: hero honda\n",
            "hero honda\n"
          ]
        }
      ]
    },
    {
      "cell_type": "code",
      "source": [],
      "metadata": {
        "id": "pptWNCLovV4z"
      },
      "execution_count": null,
      "outputs": []
    },
    {
      "cell_type": "markdown",
      "source": [
        "###for loop"
      ],
      "metadata": {
        "id": "4u_4xJN3vcAN"
      }
    },
    {
      "cell_type": "code",
      "source": [
        "for i in range(60,90,6):\n",
        "  print (i, end=\"\")"
      ],
      "metadata": {
        "colab": {
          "base_uri": "https://localhost:8080/"
        },
        "id": "wxIIxgMWveco",
        "outputId": "005c51d4-bad3-4308-f782-2c576445ea89"
      },
      "execution_count": 3,
      "outputs": [
        {
          "output_type": "stream",
          "name": "stdout",
          "text": [
            "6066727884"
          ]
        }
      ]
    },
    {
      "cell_type": "code",
      "source": [
        "for i in \"hero honda\":\n",
        "  print(i)"
      ],
      "metadata": {
        "colab": {
          "base_uri": "https://localhost:8080/"
        },
        "id": "bmKKCQYGvugv",
        "outputId": "94b80509-f159-45bc-fc68-b07e4fbea80a"
      },
      "execution_count": 5,
      "outputs": [
        {
          "output_type": "stream",
          "name": "stdout",
          "text": [
            "h\n",
            "e\n",
            "r\n",
            "o\n",
            " \n",
            "h\n",
            "o\n",
            "n\n",
            "d\n",
            "a\n"
          ]
        }
      ]
    },
    {
      "cell_type": "code",
      "source": [
        "import time\n",
        "for seconds in range (10,0,-1):\n",
        "    print (seconds)\n",
        "    time.sleep(1)\n",
        "print(\"le re ye ra tera dudh, ye ra tera bread, nai khana !!\",)\n",
        "\n",
        "\n",
        "\n",
        "\n",
        "\n",
        "\n"
      ],
      "metadata": {
        "colab": {
          "base_uri": "https://localhost:8080/"
        },
        "id": "OouG-w6hv4Sy",
        "outputId": "caac088f-b9ee-4798-897e-cbd5e6f193c3"
      },
      "execution_count": 9,
      "outputs": [
        {
          "output_type": "stream",
          "name": "stdout",
          "text": [
            "10\n",
            "9\n",
            "8\n",
            "7\n",
            "6\n",
            "5\n",
            "4\n",
            "3\n",
            "2\n",
            "1\n",
            "le re ye ra tera dudh, ye ra tera bread, nai khana !!\n"
          ]
        }
      ]
    },
    {
      "cell_type": "code",
      "source": [],
      "metadata": {
        "id": "KlVK35tpwvBN"
      },
      "execution_count": null,
      "outputs": []
    },
    {
      "cell_type": "markdown",
      "source": [
        "### nested loops"
      ],
      "metadata": {
        "id": "Cm-9rtk2xDD3"
      }
    },
    {
      "cell_type": "code",
      "source": [
        "rows = int(input(\"enter the number of rows: \"))\n",
        "columns = int(input(\"enter the number of columns: \"))\n",
        "symbol = input(\"enter a symbol to use: \")\n",
        "\n",
        "for i in range(rows):\n",
        "  for j in range(columns):\n",
        "    print(symbol, end=\"\")\n",
        "  print()\n",
        ""
      ],
      "metadata": {
        "colab": {
          "base_uri": "https://localhost:8080/"
        },
        "id": "tFXkULUExFEz",
        "outputId": "78638b0f-0a9a-408c-f5d3-3d3fdf42db6a"
      },
      "execution_count": 12,
      "outputs": [
        {
          "output_type": "stream",
          "name": "stdout",
          "text": [
            "enter the number of rows: 17\n",
            "enter the number of columns: 35\n",
            "enter a symbol to use: XD\n",
            "XDXDXDXDXDXDXDXDXDXDXDXDXDXDXDXDXDXDXDXDXDXDXDXDXDXDXDXDXDXDXDXDXDXDXD\n",
            "XDXDXDXDXDXDXDXDXDXDXDXDXDXDXDXDXDXDXDXDXDXDXDXDXDXDXDXDXDXDXDXDXDXDXD\n",
            "XDXDXDXDXDXDXDXDXDXDXDXDXDXDXDXDXDXDXDXDXDXDXDXDXDXDXDXDXDXDXDXDXDXDXD\n",
            "XDXDXDXDXDXDXDXDXDXDXDXDXDXDXDXDXDXDXDXDXDXDXDXDXDXDXDXDXDXDXDXDXDXDXD\n",
            "XDXDXDXDXDXDXDXDXDXDXDXDXDXDXDXDXDXDXDXDXDXDXDXDXDXDXDXDXDXDXDXDXDXDXD\n",
            "XDXDXDXDXDXDXDXDXDXDXDXDXDXDXDXDXDXDXDXDXDXDXDXDXDXDXDXDXDXDXDXDXDXDXD\n",
            "XDXDXDXDXDXDXDXDXDXDXDXDXDXDXDXDXDXDXDXDXDXDXDXDXDXDXDXDXDXDXDXDXDXDXD\n",
            "XDXDXDXDXDXDXDXDXDXDXDXDXDXDXDXDXDXDXDXDXDXDXDXDXDXDXDXDXDXDXDXDXDXDXD\n",
            "XDXDXDXDXDXDXDXDXDXDXDXDXDXDXDXDXDXDXDXDXDXDXDXDXDXDXDXDXDXDXDXDXDXDXD\n",
            "XDXDXDXDXDXDXDXDXDXDXDXDXDXDXDXDXDXDXDXDXDXDXDXDXDXDXDXDXDXDXDXDXDXDXD\n",
            "XDXDXDXDXDXDXDXDXDXDXDXDXDXDXDXDXDXDXDXDXDXDXDXDXDXDXDXDXDXDXDXDXDXDXD\n",
            "XDXDXDXDXDXDXDXDXDXDXDXDXDXDXDXDXDXDXDXDXDXDXDXDXDXDXDXDXDXDXDXDXDXDXD\n",
            "XDXDXDXDXDXDXDXDXDXDXDXDXDXDXDXDXDXDXDXDXDXDXDXDXDXDXDXDXDXDXDXDXDXDXD\n",
            "XDXDXDXDXDXDXDXDXDXDXDXDXDXDXDXDXDXDXDXDXDXDXDXDXDXDXDXDXDXDXDXDXDXDXD\n",
            "XDXDXDXDXDXDXDXDXDXDXDXDXDXDXDXDXDXDXDXDXDXDXDXDXDXDXDXDXDXDXDXDXDXDXD\n",
            "XDXDXDXDXDXDXDXDXDXDXDXDXDXDXDXDXDXDXDXDXDXDXDXDXDXDXDXDXDXDXDXDXDXDXD\n",
            "XDXDXDXDXDXDXDXDXDXDXDXDXDXDXDXDXDXDXDXDXDXDXDXDXDXDXDXDXDXDXDXDXDXDXD\n"
          ]
        }
      ]
    },
    {
      "cell_type": "code",
      "source": [],
      "metadata": {
        "id": "BuTII1RIxU20"
      },
      "execution_count": 12,
      "outputs": []
    },
    {
      "cell_type": "markdown",
      "source": [
        "### loop control statements"
      ],
      "metadata": {
        "id": "YGIXC2Ekx28F"
      }
    },
    {
      "cell_type": "code",
      "source": [
        "# break\n",
        "# continue\n",
        "# pass\n",
        "\n",
        "while name :\n",
        "  name = input(\"entyer your name \" )\n",
        "  if name != \" \" :\n",
        "    break\n"
      ],
      "metadata": {
        "colab": {
          "base_uri": "https://localhost:8080/"
        },
        "id": "a_moorkcx619",
        "outputId": "65efd4be-85ec-49e2-8332-53c780035cb2"
      },
      "execution_count": 16,
      "outputs": [
        {
          "name": "stdout",
          "output_type": "stream",
          "text": [
            "entyer your name tiara\n"
          ]
        }
      ]
    },
    {
      "cell_type": "code",
      "source": [
        "phone_number = \"123-456-7890\"\n",
        "for i in phone_number:\n",
        "  if i == \"-\":\n",
        "    continue\n",
        "print(i,end=\" \")"
      ],
      "metadata": {
        "colab": {
          "base_uri": "https://localhost:8080/"
        },
        "id": "GGpz8tC8yU75",
        "outputId": "979a1455-e245-4b16-9e5d-b1d3b69030e3"
      },
      "execution_count": 32,
      "outputs": [
        {
          "output_type": "stream",
          "name": "stdout",
          "text": [
            "0 "
          ]
        }
      ]
    },
    {
      "cell_type": "code",
      "source": [
        "for i in range(1,21):\n",
        "  if i == 13:\n",
        "    pass\n",
        "  else:\n",
        "    print(i)"
      ],
      "metadata": {
        "colab": {
          "base_uri": "https://localhost:8080/"
        },
        "id": "ix_CzQyty9jh",
        "outputId": "3e90dc0f-5f94-4708-d79c-dfe61f459175"
      },
      "execution_count": 33,
      "outputs": [
        {
          "output_type": "stream",
          "name": "stdout",
          "text": [
            "1\n",
            "2\n",
            "3\n",
            "4\n",
            "5\n",
            "6\n",
            "7\n",
            "8\n",
            "9\n",
            "10\n",
            "11\n",
            "12\n",
            "14\n",
            "15\n",
            "16\n",
            "17\n",
            "18\n",
            "19\n",
            "20\n"
          ]
        }
      ]
    },
    {
      "cell_type": "code",
      "source": [],
      "metadata": {
        "id": "06UCL0FL0Fz5"
      },
      "execution_count": null,
      "outputs": []
    },
    {
      "cell_type": "markdown",
      "source": [
        "### lists"
      ],
      "metadata": {
        "id": "oB87jktm0N4X"
      }
    },
    {
      "cell_type": "code",
      "source": [
        "food = [\"pizza\",\"hamburger\",\"hotdog\",\"spaghetti\"]\n",
        "print(food)"
      ],
      "metadata": {
        "colab": {
          "base_uri": "https://localhost:8080/"
        },
        "id": "VH4NzKAx0PMP",
        "outputId": "5ae2526f-5489-4901-c2e1-6942fa908ee7"
      },
      "execution_count": 35,
      "outputs": [
        {
          "output_type": "stream",
          "name": "stdout",
          "text": [
            "['pizza', 'hamburger', 'hotdog', 'spaghetti']\n"
          ]
        }
      ]
    },
    {
      "cell_type": "code",
      "source": [
        "food.append(\"ice cream\")\n",
        "print(food)"
      ],
      "metadata": {
        "colab": {
          "base_uri": "https://localhost:8080/"
        },
        "id": "cSaIimkM0U77",
        "outputId": "d6906049-b3af-4444-dc66-d0af65a40c50"
      },
      "execution_count": 36,
      "outputs": [
        {
          "output_type": "stream",
          "name": "stdout",
          "text": [
            "['pizza', 'hamburger', 'hotdog', 'spaghetti', 'ice cream']\n"
          ]
        }
      ]
    },
    {
      "cell_type": "code",
      "source": [
        "food.remove(\"hotdog\")\n",
        "print(food)"
      ],
      "metadata": {
        "colab": {
          "base_uri": "https://localhost:8080/"
        },
        "id": "j_dUpjti0a50",
        "outputId": "d0a5bc10-266a-4589-c75e-fd4d8b8026a5"
      },
      "execution_count": 38,
      "outputs": [
        {
          "output_type": "stream",
          "name": "stdout",
          "text": [
            "['pizza', 'hamburger', 'spaghetti', 'ice cream']\n"
          ]
        }
      ]
    },
    {
      "cell_type": "code",
      "source": [
        "food.pop()\n",
        "print(food)"
      ],
      "metadata": {
        "colab": {
          "base_uri": "https://localhost:8080/"
        },
        "id": "GN-HXHnH0eA8",
        "outputId": "735f3b5f-e8dd-4dc4-98ef-79588fedb51c"
      },
      "execution_count": 39,
      "outputs": [
        {
          "output_type": "stream",
          "name": "stdout",
          "text": [
            "['pizza', 'hamburger', 'spaghetti']\n"
          ]
        }
      ]
    },
    {
      "cell_type": "code",
      "source": [
        "food.insert(0,\"cola\")\n",
        "print(food)"
      ],
      "metadata": {
        "colab": {
          "base_uri": "https://localhost:8080/"
        },
        "id": "XDki-YaP0ix7",
        "outputId": "1cc2283f-da13-47fe-f26d-b27a0e855734"
      },
      "execution_count": 40,
      "outputs": [
        {
          "output_type": "stream",
          "name": "stdout",
          "text": [
            "['cola', 'pizza', 'hamburger', 'spaghetti']\n"
          ]
        }
      ]
    },
    {
      "cell_type": "code",
      "source": [
        "food.sort()\n",
        "print(food)"
      ],
      "metadata": {
        "colab": {
          "base_uri": "https://localhost:8080/"
        },
        "id": "w8dwweGA0sdO",
        "outputId": "20606851-89ae-4d3e-a28c-2e81c85a4640"
      },
      "execution_count": 42,
      "outputs": [
        {
          "output_type": "stream",
          "name": "stdout",
          "text": [
            "['cola', 'hamburger', 'pizza', 'spaghetti']\n"
          ]
        }
      ]
    },
    {
      "cell_type": "code",
      "source": [
        "food.clear()\n",
        "print(food)"
      ],
      "metadata": {
        "colab": {
          "base_uri": "https://localhost:8080/"
        },
        "id": "gvYPzRXV0ua3",
        "outputId": "c440ff3c-f7bd-4603-cfd1-0bf2bc8bd97b"
      },
      "execution_count": 43,
      "outputs": [
        {
          "output_type": "stream",
          "name": "stdout",
          "text": [
            "[]\n"
          ]
        }
      ]
    },
    {
      "cell_type": "code",
      "source": [],
      "metadata": {
        "id": "-2Fwz8lv00hn"
      },
      "execution_count": null,
      "outputs": []
    }
  ]
}